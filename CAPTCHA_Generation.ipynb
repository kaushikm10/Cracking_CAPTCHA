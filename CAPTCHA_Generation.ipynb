{
  "nbformat": 4,
  "nbformat_minor": 0,
  "metadata": {
    "colab": {
      "name": "CAPTCHA Generation.ipynb",
      "provenance": [],
      "collapsed_sections": []
    },
    "kernelspec": {
      "name": "python3",
      "display_name": "Python 3"
    }
  },
  "cells": [
    {
      "cell_type": "code",
      "metadata": {
        "colab": {
          "base_uri": "https://localhost:8080/"
        },
        "id": "ZAihHed47nwH",
        "outputId": "aed9a1eb-6215-424d-8ada-a20778308687"
      },
      "source": [
        "cd drive/MyDrive/Colab Notebooks/CAPTCHA Cracking using CNN"
      ],
      "execution_count": null,
      "outputs": [
        {
          "output_type": "stream",
          "text": [
            "/content/drive/MyDrive/Colab Notebooks/CAPTCHA Cracking using CNN\n"
          ],
          "name": "stdout"
        }
      ]
    },
    {
      "cell_type": "code",
      "metadata": {
        "id": "_ynzI20W8XNC"
      },
      "source": [
        "!mkdir images"
      ],
      "execution_count": null,
      "outputs": []
    },
    {
      "cell_type": "code",
      "metadata": {
        "colab": {
          "base_uri": "https://localhost:8080/"
        },
        "id": "6RPCjfd18bkj",
        "outputId": "9c507df6-1730-4557-8e3a-8951a9e1bc06"
      },
      "source": [
        "cd images"
      ],
      "execution_count": null,
      "outputs": [
        {
          "output_type": "stream",
          "text": [
            "/content/drive/MyDrive/Colab Notebooks/CAPTCHA Cracking using CNN/images\n"
          ],
          "name": "stdout"
        }
      ]
    },
    {
      "cell_type": "code",
      "metadata": {
        "id": "TQFh2LrV8d4r"
      },
      "source": [
        "!mkdir train"
      ],
      "execution_count": null,
      "outputs": []
    },
    {
      "cell_type": "code",
      "metadata": {
        "id": "MIQBy8JR8gV4"
      },
      "source": [
        "!mkdir test"
      ],
      "execution_count": null,
      "outputs": []
    },
    {
      "cell_type": "code",
      "metadata": {
        "colab": {
          "base_uri": "https://localhost:8080/"
        },
        "id": "JvYGmbIz86m4",
        "outputId": "a23ac0bf-0f89-4683-dad9-49b8873ac2ae"
      },
      "source": [
        "cd train"
      ],
      "execution_count": null,
      "outputs": [
        {
          "output_type": "stream",
          "text": [
            "/content/drive/MyDrive/Colab Notebooks/CAPTCHA Cracking using CNN/images/train\n"
          ],
          "name": "stdout"
        }
      ]
    },
    {
      "cell_type": "code",
      "metadata": {
        "colab": {
          "base_uri": "https://localhost:8080/"
        },
        "id": "CVQNMv_87sxA",
        "outputId": "4b56a980-b195-4cae-a185-e1be614ef748"
      },
      "source": [
        "import random\n",
        "import string\n",
        "import matplotlib.pyplot as plt\n",
        "from captcha.image import ImageCaptcha\n",
        "import cv2\n",
        "import time\n",
        "count = 0\n",
        "#no = 1250   #for train images\n",
        "no = 300   # for test images\n",
        "filenames = []\n",
        "lower = list(string.ascii_lowercase)\n",
        "while count < no:\n",
        "      x = True\n",
        "      while x:\n",
        "        length = 5\n",
        "        captcha = \"\"\n",
        "        for i in range(length):\n",
        "          captcha = captcha + lower[random.randint(0, 25)]\n",
        "        if captcha in filenames:\n",
        "          continue\n",
        "        else:\n",
        "          x = False\n",
        "          filenames.append(captcha)\n",
        "      image = ImageCaptcha()\n",
        "      data = image.generate(captcha)\n",
        "      image.write(captcha, f'{captcha}.png')\n",
        "      count += 1\n",
        "      if count%50 == 0:\n",
        "        print(count, \" CAPTCHAs generated\")"
      ],
      "execution_count": null,
      "outputs": [
        {
          "output_type": "stream",
          "text": [
            "50  CAPTCHAs generated\n",
            "100  CAPTCHAs generated\n",
            "150  CAPTCHAs generated\n",
            "200  CAPTCHAs generated\n",
            "250  CAPTCHAs generated\n",
            "300  CAPTCHAs generated\n"
          ],
          "name": "stdout"
        }
      ]
    },
    {
      "cell_type": "code",
      "metadata": {
        "colab": {
          "base_uri": "https://localhost:8080/"
        },
        "id": "ve2z9pPp9Bvj",
        "outputId": "8a18a9de-9d5f-451b-e343-0c9cfa6cf40f"
      },
      "source": [
        "cd .."
      ],
      "execution_count": null,
      "outputs": [
        {
          "output_type": "stream",
          "text": [
            "/content/drive/My Drive/Colab Notebooks/CAPTCHA Cracking using CNN/images\n"
          ],
          "name": "stdout"
        }
      ]
    },
    {
      "cell_type": "code",
      "metadata": {
        "colab": {
          "base_uri": "https://localhost:8080/"
        },
        "id": "fqXchNY79VQf",
        "outputId": "5c431381-2c35-4586-e846-516a4bcf4edf"
      },
      "source": [
        "cd test"
      ],
      "execution_count": null,
      "outputs": [
        {
          "output_type": "stream",
          "text": [
            "/content/drive/My Drive/Colab Notebooks/CAPTCHA Cracking using CNN/images/test\n"
          ],
          "name": "stdout"
        }
      ]
    },
    {
      "cell_type": "code",
      "metadata": {
        "colab": {
          "base_uri": "https://localhost:8080/",
          "height": 35
        },
        "id": "FyHnpBiJ9V0v",
        "outputId": "75f3e34d-eecf-40b1-a4f6-6a1931206682"
      },
      "source": [
        "pwd"
      ],
      "execution_count": null,
      "outputs": [
        {
          "output_type": "execute_result",
          "data": {
            "application/vnd.google.colaboratory.intrinsic+json": {
              "type": "string"
            },
            "text/plain": [
              "'/content/drive/My Drive/Colab Notebooks/CAPTCHA Cracking using CNN/images/train'"
            ]
          },
          "metadata": {
            "tags": []
          },
          "execution_count": 17
        }
      ]
    },
    {
      "cell_type": "code",
      "metadata": {
        "id": "jwI-XZx5YHrO"
      },
      "source": [
        "ls"
      ],
      "execution_count": null,
      "outputs": []
    },
    {
      "cell_type": "code",
      "metadata": {
        "id": "TokbcWdFbuyu"
      },
      "source": [
        "!rm -f image.png"
      ],
      "execution_count": null,
      "outputs": []
    },
    {
      "cell_type": "code",
      "metadata": {
        "id": "tOYahbgRbxOJ",
        "colab": {
          "base_uri": "https://localhost:8080/"
        },
        "outputId": "f1adb971-e631-4917-c3a8-d2a96d1d4adf"
      },
      "source": [
        "!pip install captcha"
      ],
      "execution_count": null,
      "outputs": [
        {
          "output_type": "stream",
          "text": [
            "Collecting captcha\n",
            "\u001b[?25l  Downloading https://files.pythonhosted.org/packages/90/fe/d4ddf1e6576073b5eaea76e9b2afa022c626212a30c871968480be3ccb7b/captcha-0.3-py3-none-any.whl (101kB)\n",
            "\r\u001b[K     |███▎                            | 10kB 16.5MB/s eta 0:00:01\r\u001b[K     |██████▌                         | 20kB 13.0MB/s eta 0:00:01\r\u001b[K     |█████████▊                      | 30kB 8.8MB/s eta 0:00:01\r\u001b[K     |█████████████                   | 40kB 7.5MB/s eta 0:00:01\r\u001b[K     |████████████████▏               | 51kB 4.3MB/s eta 0:00:01\r\u001b[K     |███████████████████▍            | 61kB 4.8MB/s eta 0:00:01\r\u001b[K     |██████████████████████▋         | 71kB 4.9MB/s eta 0:00:01\r\u001b[K     |█████████████████████████▉      | 81kB 5.3MB/s eta 0:00:01\r\u001b[K     |█████████████████████████████   | 92kB 5.6MB/s eta 0:00:01\r\u001b[K     |████████████████████████████████| 102kB 4.0MB/s \n",
            "\u001b[?25hRequirement already satisfied: Pillow in /usr/local/lib/python3.7/dist-packages (from captcha) (7.0.0)\n",
            "Installing collected packages: captcha\n",
            "Successfully installed captcha-0.3\n"
          ],
          "name": "stdout"
        }
      ]
    },
    {
      "cell_type": "code",
      "metadata": {
        "id": "bhAsSIHZv16E"
      },
      "source": [
        ""
      ],
      "execution_count": null,
      "outputs": []
    }
  ]
}